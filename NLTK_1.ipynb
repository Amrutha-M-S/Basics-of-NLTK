{
  "nbformat": 4,
  "nbformat_minor": 0,
  "metadata": {
    "colab": {
      "provenance": [],
      "authorship_tag": "ABX9TyO/va16oRrNdarQczqydG4j",
      "include_colab_link": true
    },
    "kernelspec": {
      "name": "python3",
      "display_name": "Python 3"
    },
    "language_info": {
      "name": "python"
    }
  },
  "cells": [
    {
      "cell_type": "markdown",
      "metadata": {
        "id": "view-in-github",
        "colab_type": "text"
      },
      "source": [
        "<a href=\"https://colab.research.google.com/github/Amrutha-M-S/Basics-of-NLTK/blob/main/NLTK_1.ipynb\" target=\"_parent\"><img src=\"https://colab.research.google.com/assets/colab-badge.svg\" alt=\"Open In Colab\"/></a>"
      ]
    },
    {
      "cell_type": "code",
      "execution_count": 1,
      "metadata": {
        "id": "BDjZ6WlfsqNU"
      },
      "outputs": [],
      "source": [
        "import nltk"
      ]
    },
    {
      "cell_type": "code",
      "source": [
        "nltk.download('brown')\n",
        "from nltk.corpus import brown"
      ],
      "metadata": {
        "colab": {
          "base_uri": "https://localhost:8080/"
        },
        "id": "gNnwCSZYtgQf",
        "outputId": "d8e95f8c-9340-4fd4-80a1-1c2631428d51"
      },
      "execution_count": 2,
      "outputs": [
        {
          "output_type": "stream",
          "name": "stderr",
          "text": [
            "[nltk_data] Downloading package brown to /root/nltk_data...\n",
            "[nltk_data]   Unzipping corpora/brown.zip.\n"
          ]
        }
      ]
    },
    {
      "cell_type": "code",
      "source": [
        "import pandas as pd\n",
        "from nltk.corpus import brown\n",
        "import numpy as np\n",
        "import math"
      ],
      "metadata": {
        "id": "Q3JeiWjKtpff"
      },
      "execution_count": 3,
      "outputs": []
    },
    {
      "cell_type": "code",
      "source": [
        "#1\n",
        "#no of tokens in brown corpus\n",
        "len(brown.words())"
      ],
      "metadata": {
        "colab": {
          "base_uri": "https://localhost:8080/"
        },
        "id": "jheLA9Uitzxi",
        "outputId": "e53fe0e1-8689-455d-9f28-06d081b92317"
      },
      "execution_count": 4,
      "outputs": [
        {
          "output_type": "execute_result",
          "data": {
            "text/plain": [
              "1161192"
            ]
          },
          "metadata": {},
          "execution_count": 4
        }
      ]
    },
    {
      "cell_type": "code",
      "source": [
        "brown.categories()"
      ],
      "metadata": {
        "colab": {
          "base_uri": "https://localhost:8080/"
        },
        "id": "djyEoc3WuUnl",
        "outputId": "27c15555-40df-4897-a2b6-5e9be8b7695d"
      },
      "execution_count": 5,
      "outputs": [
        {
          "output_type": "execute_result",
          "data": {
            "text/plain": [
              "['adventure',\n",
              " 'belles_lettres',\n",
              " 'editorial',\n",
              " 'fiction',\n",
              " 'government',\n",
              " 'hobbies',\n",
              " 'humor',\n",
              " 'learned',\n",
              " 'lore',\n",
              " 'mystery',\n",
              " 'news',\n",
              " 'religion',\n",
              " 'reviews',\n",
              " 'romance',\n",
              " 'science_fiction']"
            ]
          },
          "metadata": {},
          "execution_count": 5
        }
      ]
    },
    {
      "cell_type": "code",
      "source": [
        "brown.words(categories='government')"
      ],
      "metadata": {
        "colab": {
          "base_uri": "https://localhost:8080/"
        },
        "id": "EUzJ6Yn08W6x",
        "outputId": "ceb826bc-780b-4bf9-8c67-8368fa8ca272"
      },
      "execution_count": 10,
      "outputs": [
        {
          "output_type": "execute_result",
          "data": {
            "text/plain": [
              "['The', 'Office', 'of', 'Business', 'Economics', '(', ...]"
            ]
          },
          "metadata": {},
          "execution_count": 10
        }
      ]
    },
    {
      "cell_type": "code",
      "source": [
        "len(brown.words(categories='government'))"
      ],
      "metadata": {
        "colab": {
          "base_uri": "https://localhost:8080/"
        },
        "id": "_tMo04bo9Eg4",
        "outputId": "8d9ef200-a70b-4a3e-91b2-7f878cc9b052"
      },
      "execution_count": 11,
      "outputs": [
        {
          "output_type": "execute_result",
          "data": {
            "text/plain": [
              "70117"
            ]
          },
          "metadata": {},
          "execution_count": 11
        }
      ]
    },
    {
      "cell_type": "code",
      "source": [
        "import matplotlib as plt\n",
        "from collections import Counter\n",
        "x=brown.words(categories='government')\n",
        "from collections import Counter\n",
        "from nltk.probability import FreqDist\n",
        "freq_dist_of_words = FreqDist(x)\n",
        "print(freq_dist_of_words)"
      ],
      "metadata": {
        "colab": {
          "base_uri": "https://localhost:8080/"
        },
        "id": "ZdMO0sFb8eyF",
        "outputId": "84d14307-e907-4008-fa05-dda0ae1024c9"
      },
      "execution_count": 17,
      "outputs": [
        {
          "output_type": "stream",
          "name": "stdout",
          "text": [
            "<FreqDist with 8181 samples and 70117 outcomes>\n"
          ]
        }
      ]
    },
    {
      "cell_type": "code",
      "source": [
        "freq_dist_of_words.most_common(5)"
      ],
      "metadata": {
        "colab": {
          "base_uri": "https://localhost:8080/"
        },
        "id": "0MNej9N5_YtA",
        "outputId": "ed541841-76be-42e5-fbba-a2cb5d82af40"
      },
      "execution_count": 18,
      "outputs": [
        {
          "output_type": "execute_result",
          "data": {
            "text/plain": [
              "[('the', 4143), (',', 3405), ('of', 3031), ('.', 2493), ('and', 1923)]"
            ]
          },
          "metadata": {},
          "execution_count": 18
        }
      ]
    },
    {
      "cell_type": "code",
      "source": [
        "import matplotlib.pyplot as plt\n",
        "freq_dist_of_words.plot(30,cumulative=False)\n",
        "plt.show()"
      ],
      "metadata": {
        "colab": {
          "base_uri": "https://localhost:8080/",
          "height": 299
        },
        "id": "HOqQaRno_dNe",
        "outputId": "efcd0fb4-f756-470b-c3e2-4798935b9117"
      },
      "execution_count": 19,
      "outputs": [
        {
          "output_type": "display_data",
          "data": {
            "text/plain": [
              "<Figure size 432x288 with 1 Axes>"
            ],
            "image/png": "[encoded data removed]"
          },
          "metadata": {
            "needs_background": "light"
          }
        }
      ]
    },
    {
      "cell_type": "code",
      "source": [
        "nltk.download('punkt') \n",
        "nltk.download('wordnet') \n",
        "from nltk.tokenize import sent_tokenize, word_tokenize\n",
        "sentences= nltk.sent_tokenize(a)\n",
        "length= len(sentences)\n",
        "length"
      ],
      "metadata": {
        "colab": {
          "base_uri": "https://localhost:8080/"
        },
        "id": "vMye7fZU_h4e",
        "outputId": "155de530-902c-49c9-d1b0-9932244e430d"
      },
      "execution_count": 24,
      "outputs": [
        {
          "output_type": "stream",
          "name": "stderr",
          "text": [
            "[nltk_data] Downloading package punkt to /root/nltk_data...\n",
            "[nltk_data]   Package punkt is already up-to-date!\n",
            "[nltk_data] Downloading package wordnet to /root/nltk_data...\n",
            "[nltk_data]   Package wordnet is already up-to-date!\n"
          ]
        },
        {
          "output_type": "execute_result",
          "data": {
            "text/plain": [
              "18"
            ]
          },
          "metadata": {},
          "execution_count": 24
        }
      ]
    },
    {
      "cell_type": "code",
      "source": [
        "#2.1\n",
        "#parsed corpora\n",
        "nltk.download('treebank')\n",
        "from nltk.corpus import treebank\n",
        "print(treebank.fileids())\n",
        "print(treebank.words('wsj_0003.mrg'))\n",
        "print(treebank.tagged_words('wsj_0003.mrg'))\n",
        "print(treebank.parsed_sents('wsj_0003.mrg')[0])"
      ],
      "metadata": {
        "colab": {
          "base_uri": "https://localhost:8080/"
        },
        "id": "HVyMXeQEA6Uw",
        "outputId": "ad43fc55-3f77-4c64-d01c-46bb8a1992b6"
      },
      "execution_count": 25,
      "outputs": [
        {
          "output_type": "stream",
          "name": "stderr",
          "text": [
            "[nltk_data] Downloading package treebank to /root/nltk_data...\n",
            "[nltk_data]   Unzipping corpora/treebank.zip.\n"
          ]
        },
        {
          "output_type": "stream",
          "name": "stdout",
          "text": [
            "['wsj_0001.mrg', 'wsj_0002.mrg', 'wsj_0003.mrg', 'wsj_0004.mrg', 'wsj_0005.mrg', 'wsj_0006.mrg', 'wsj_0007.mrg', 'wsj_0008.mrg', 'wsj_0009.mrg', 'wsj_0010.mrg', 'wsj_0011.mrg', 'wsj_0012.mrg', 'wsj_0013.mrg', 'wsj_0014.mrg', 'wsj_0015.mrg', 'wsj_0016.mrg', 'wsj_0017.mrg', 'wsj_0018.mrg', 'wsj_0019.mrg', 'wsj_0020.mrg', 'wsj_0021.mrg', 'wsj_0022.mrg', 'wsj_0023.mrg', 'wsj_0024.mrg', 'wsj_0025.mrg', 'wsj_0026.mrg', 'wsj_0027.mrg', 'wsj_0028.mrg', 'wsj_0029.mrg', 'wsj_0030.mrg', 'wsj_0031.mrg', 'wsj_0032.mrg', 'wsj_0033.mrg', 'wsj_0034.mrg', 'wsj_0035.mrg', 'wsj_0036.mrg', 'wsj_0037.mrg', 'wsj_0038.mrg', 'wsj_0039.mrg', 'wsj_0040.mrg', 'wsj_0041.mrg', 'wsj_0042.mrg', 'wsj_0043.mrg', 'wsj_0044.mrg', 'wsj_0045.mrg', 'wsj_0046.mrg', 'wsj_0047.mrg', 'wsj_0048.mrg', 'wsj_0049.mrg', 'wsj_0050.mrg', 'wsj_0051.mrg', 'wsj_0052.mrg', 'wsj_0053.mrg', 'wsj_0054.mrg', 'wsj_0055.mrg', 'wsj_0056.mrg', 'wsj_0057.mrg', 'wsj_0058.mrg', 'wsj_0059.mrg', 'wsj_0060.mrg', 'wsj_0061.mrg', 'wsj_0062.mrg', 'wsj_0063.mrg', 'wsj_0064.mrg', 'wsj_0065.mrg', 'wsj_0066.mrg', 'wsj_0067.mrg', 'wsj_0068.mrg', 'wsj_0069.mrg', 'wsj_0070.mrg', 'wsj_0071.mrg', 'wsj_0072.mrg', 'wsj_0073.mrg', 'wsj_0074.mrg', 'wsj_0075.mrg', 'wsj_0076.mrg', 'wsj_0077.mrg', 'wsj_0078.mrg', 'wsj_0079.mrg', 'wsj_0080.mrg', 'wsj_0081.mrg', 'wsj_0082.mrg', 'wsj_0083.mrg', 'wsj_0084.mrg', 'wsj_0085.mrg', 'wsj_0086.mrg', 'wsj_0087.mrg', 'wsj_0088.mrg', 'wsj_0089.mrg', 'wsj_0090.mrg', 'wsj_0091.mrg', 'wsj_0092.mrg', 'wsj_0093.mrg', 'wsj_0094.mrg', 'wsj_0095.mrg', 'wsj_0096.mrg', 'wsj_0097.mrg', 'wsj_0098.mrg', 'wsj_0099.mrg', 'wsj_0100.mrg', 'wsj_0101.mrg', 'wsj_0102.mrg', 'wsj_0103.mrg', 'wsj_0104.mrg', 'wsj_0105.mrg', 'wsj_0106.mrg', 'wsj_0107.mrg', 'wsj_0108.mrg', 'wsj_0109.mrg', 'wsj_0110.mrg', 'wsj_0111.mrg', 'wsj_0112.mrg', 'wsj_0113.mrg', 'wsj_0114.mrg', 'wsj_0115.mrg', 'wsj_0116.mrg', 'wsj_0117.mrg', 'wsj_0118.mrg', 'wsj_0119.mrg', 'wsj_0120.mrg', 'wsj_0121.mrg', 'wsj_0122.mrg', 'wsj_0123.mrg', 'wsj_0124.mrg', 'wsj_0125.mrg', 'wsj_0126.mrg', 'wsj_0127.mrg', 'wsj_0128.mrg', 'wsj_0129.mrg', 'wsj_0130.mrg', 'wsj_0131.mrg', 'wsj_0132.mrg', 'wsj_0133.mrg', 'wsj_0134.mrg', 'wsj_0135.mrg', 'wsj_0136.mrg', 'wsj_0137.mrg', 'wsj_0138.mrg', 'wsj_0139.mrg', 'wsj_0140.mrg', 'wsj_0141.mrg', 'wsj_0142.mrg', 'wsj_0143.mrg', 'wsj_0144.mrg', 'wsj_0145.mrg', 'wsj_0146.mrg', 'wsj_0147.mrg', 'wsj_0148.mrg', 'wsj_0149.mrg', 'wsj_0150.mrg', 'wsj_0151.mrg', 'wsj_0152.mrg', 'wsj_0153.mrg', 'wsj_0154.mrg', 'wsj_0155.mrg', 'wsj_0156.mrg', 'wsj_0157.mrg', 'wsj_0158.mrg', 'wsj_0159.mrg', 'wsj_0160.mrg', 'wsj_0161.mrg', 'wsj_0162.mrg', 'wsj_0163.mrg', 'wsj_0164.mrg', 'wsj_0165.mrg', 'wsj_0166.mrg', 'wsj_0167.mrg', 'wsj_0168.mrg', 'wsj_0169.mrg', 'wsj_0170.mrg', 'wsj_0171.mrg', 'wsj_0172.mrg', 'wsj_0173.mrg', 'wsj_0174.mrg', 'wsj_0175.mrg', 'wsj_0176.mrg', 'wsj_0177.mrg', 'wsj_0178.mrg', 'wsj_0179.mrg', 'wsj_0180.mrg', 'wsj_0181.mrg', 'wsj_0182.mrg', 'wsj_0183.mrg', 'wsj_0184.mrg', 'wsj_0185.mrg', 'wsj_0186.mrg', 'wsj_0187.mrg', 'wsj_0188.mrg', 'wsj_0189.mrg', 'wsj_0190.mrg', 'wsj_0191.mrg', 'wsj_0192.mrg', 'wsj_0193.mrg', 'wsj_0194.mrg', 'wsj_0195.mrg', 'wsj_0196.mrg', 'wsj_0197.mrg', 'wsj_0198.mrg', 'wsj_0199.mrg']\n",
            "['A', 'form', 'of', 'asbestos', 'once', 'used', '*', ...]\n",
            "[('A', 'DT'), ('form', 'NN'), ('of', 'IN'), ...]\n",
            "(S\n",
            "  (S-TPC-1\n",
            "    (NP-SBJ\n",
            "      (NP (NP (DT A) (NN form)) (PP (IN of) (NP (NN asbestos))))\n",
            "      (RRC\n",
            "        (ADVP-TMP (RB once))\n",
            "        (VP\n",
            "          (VBN used)\n",
            "          (NP (-NONE- *))\n",
            "          (S-CLR\n",
            "            (NP-SBJ (-NONE- *))\n",
            "            (VP\n",
            "              (TO to)\n",
            "              (VP\n",
            "                (VB make)\n",
            "                (NP (NNP Kent) (NN cigarette) (NNS filters))))))))\n",
            "    (VP\n",
            "      (VBZ has)\n",
            "      (VP\n",
            "        (VBN caused)\n",
            "        (NP\n",
            "          (NP (DT a) (JJ high) (NN percentage))\n",
            "          (PP (IN of) (NP (NN cancer) (NNS deaths)))\n",
            "          (PP-LOC\n",
            "            (IN among)\n",
            "            (NP\n",
            "              (NP (DT a) (NN group))\n",
            "              (PP\n",
            "                (IN of)\n",
            "                (NP\n",
            "                  (NP (NNS workers))\n",
            "                  (RRC\n",
            "                    (VP\n",
            "                      (VBN exposed)\n",
            "                      (NP (-NONE- *))\n",
            "                      (PP-CLR (TO to) (NP (PRP it)))\n",
            "                      (ADVP-TMP\n",
            "                        (NP\n",
            "                          (QP (RBR more) (IN than) (CD 30))\n",
            "                          (NNS years))\n",
            "                        (IN ago))))))))))))\n",
            "  (, ,)\n",
            "  (NP-SBJ (NNS researchers))\n",
            "  (VP (VBD reported) (SBAR (-NONE- 0) (S (-NONE- *T*-1))))\n",
            "  (. .))\n"
          ]
        }
      ]
    },
    {
      "cell_type": "code",
      "source": [
        "#2.2\n",
        "#Spoken language\n",
        "nltk.download('indian')\n",
        "from nltk.corpus import indian\n",
        "print(indian.words()) \n",
        "print(indian.tagged_words()) "
      ],
      "metadata": {
        "colab": {
          "base_uri": "https://localhost:8080/"
        },
        "id": "LTGa2YzdBFlc",
        "outputId": "663d1e2a-4372-47b0-ff17-97d29cdc3eb9"
      },
      "execution_count": 26,
      "outputs": [
        {
          "output_type": "stream",
          "name": "stderr",
          "text": [
            "[nltk_data] Downloading package indian to /root/nltk_data...\n"
          ]
        },
        {
          "output_type": "stream",
          "name": "stdout",
          "text": [
            "['মহিষের', 'সন্তান', ':', 'তোড়া', 'উপজাতি', '৷', ...]\n",
            "[('মহিষের', 'NN'), ('সন্তান', 'NN'), (':', 'SYM'), ...]\n"
          ]
        },
        {
          "output_type": "stream",
          "name": "stderr",
          "text": [
            "[nltk_data]   Unzipping corpora/indian.zip.\n"
          ]
        }
      ]
    },
    {
      "cell_type": "code",
      "source": [
        "#2.3\n",
        "#POS tagged corpora\n",
        "from nltk.corpus import brown\n",
        "print(brown.words())\n",
        "print(brown.tagged_words())\n",
        "print(brown.sents())\n",
        "print(brown.tagged_sents())\n",
        "print(brown.paras(categories='fiction'))\n",
        "print(brown.tagged_paras(categories='fiction'))"
      ],
      "metadata": {
        "colab": {
          "base_uri": "https://localhost:8080/"
        },
        "id": "nwQR7SKvBYjf",
        "outputId": "75aa7e28-28f8-4a58-fbde-4e5f1e74c365"
      },
      "execution_count": 27,
      "outputs": [
        {
          "output_type": "stream",
          "name": "stdout",
          "text": [
            "['The', 'Fulton', 'County', 'Grand', 'Jury', 'said', ...]\n",
            "[('The', 'AT'), ('Fulton', 'NP-TL'), ...]\n",
            "[['The', 'Fulton', 'County', 'Grand', 'Jury', 'said', 'Friday', 'an', 'investigation', 'of', \"Atlanta's\", 'recent', 'primary', 'election', 'produced', '``', 'no', 'evidence', \"''\", 'that', 'any', 'irregularities', 'took', 'place', '.'], ['The', 'jury', 'further', 'said', 'in', 'term-end', 'presentments', 'that', 'the', 'City', 'Executive', 'Committee', ',', 'which', 'had', 'over-all', 'charge', 'of', 'the', 'election', ',', '``', 'deserves', 'the', 'praise', 'and', 'thanks', 'of', 'the', 'City', 'of', 'Atlanta', \"''\", 'for', 'the', 'manner', 'in', 'which', 'the', 'election', 'was', 'conducted', '.'], ...]\n",
            "[[('The', 'AT'), ('Fulton', 'NP-TL'), ('County', 'NN-TL'), ('Grand', 'JJ-TL'), ('Jury', 'NN-TL'), ('said', 'VBD'), ('Friday', 'NR'), ('an', 'AT'), ('investigation', 'NN'), ('of', 'IN'), (\"Atlanta's\", 'NP$'), ('recent', 'JJ'), ('primary', 'NN'), ('election', 'NN'), ('produced', 'VBD'), ('``', '``'), ('no', 'AT'), ('evidence', 'NN'), (\"''\", \"''\"), ('that', 'CS'), ('any', 'DTI'), ('irregularities', 'NNS'), ('took', 'VBD'), ('place', 'NN'), ('.', '.')], [('The', 'AT'), ('jury', 'NN'), ('further', 'RBR'), ('said', 'VBD'), ('in', 'IN'), ('term-end', 'NN'), ('presentments', 'NNS'), ('that', 'CS'), ('the', 'AT'), ('City', 'NN-TL'), ('Executive', 'JJ-TL'), ('Committee', 'NN-TL'), (',', ','), ('which', 'WDT'), ('had', 'HVD'), ('over-all', 'JJ'), ('charge', 'NN'), ('of', 'IN'), ('the', 'AT'), ('election', 'NN'), (',', ','), ('``', '``'), ('deserves', 'VBZ'), ('the', 'AT'), ('praise', 'NN'), ('and', 'CC'), ('thanks', 'NNS'), ('of', 'IN'), ('the', 'AT'), ('City', 'NN-TL'), ('of', 'IN-TL'), ('Atlanta', 'NP-TL'), (\"''\", \"''\"), ('for', 'IN'), ('the', 'AT'), ('manner', 'NN'), ('in', 'IN'), ('which', 'WDT'), ('the', 'AT'), ('election', 'NN'), ('was', 'BEDZ'), ('conducted', 'VBN'), ('.', '.')], ...]\n",
            "[[['Thirty-three'], ['Scotty', 'did', 'not', 'go', 'back', 'to', 'school', '.'], ['His', 'parents', 'talked', 'seriously', 'and', 'lengthily', 'to', 'their', 'own', 'doctor', 'and', 'to', 'a', 'specialist', 'at', 'the', 'University', 'Hospital', '--', 'Mr.', 'McKinley', 'was', 'entitled', 'to', 'a', 'discount', 'for', 'members', 'of', 'his', 'family', '--', 'and', 'it', 'was', 'decided', 'it', 'would', 'be', 'best', 'for', 'him', 'to', 'take', 'the', 'remainder', 'of', 'the', 'term', 'off', ',', 'spend', 'a', 'lot', 'of', 'time', 'in', 'bed', 'and', ',', 'for', 'the', 'rest', ',', 'do', 'pretty', 'much', 'as', 'he', 'chose', '--', 'provided', ',', 'of', 'course', ',', 'he', 'chose', 'to', 'do', 'nothing', 'too', 'exciting', 'or', 'too', 'debilitating', '.'], ['His', 'teacher', 'and', 'his', 'school', 'principal', 'were', 'conferred', 'with', 'and', 'everyone', 'agreed', 'that', ',', 'if', 'he', 'kept', 'up', 'with', 'a', 'certain', 'amount', 'of', 'work', 'at', 'home', ',', 'there', 'was', 'little', 'danger', 'of', 'his', 'losing', 'a', 'term', '.']], [['Scotty', 'accepted', 'the', 'decision', 'with', 'indifference', 'and', 'did', 'not', 'enter', 'the', 'arguments', '.']], ...]\n",
            "[[[('Thirty-three', 'CD-HL')], [('Scotty', 'NP'), ('did', 'DOD'), ('not', '*'), ('go', 'VB'), ('back', 'RB'), ('to', 'IN'), ('school', 'NN'), ('.', '.')], [('His', 'PP$'), ('parents', 'NNS'), ('talked', 'VBD'), ('seriously', 'RB'), ('and', 'CC'), ('lengthily', 'RB'), ('to', 'IN'), ('their', 'PP$'), ('own', 'JJ'), ('doctor', 'NN'), ('and', 'CC'), ('to', 'IN'), ('a', 'AT'), ('specialist', 'NN'), ('at', 'IN'), ('the', 'AT'), ('University', 'NN-TL'), ('Hospital', 'NN-TL'), ('--', '--'), ('Mr.', 'NP'), ('McKinley', 'NP'), ('was', 'BEDZ'), ('entitled', 'VBN'), ('to', 'IN'), ('a', 'AT'), ('discount', 'NN'), ('for', 'IN'), ('members', 'NNS'), ('of', 'IN'), ('his', 'PP$'), ('family', 'NN'), ('--', '--'), ('and', 'CC'), ('it', 'PPS'), ('was', 'BEDZ'), ('decided', 'VBN'), ('it', 'PPS'), ('would', 'MD'), ('be', 'BE'), ('best', 'JJT'), ('for', 'CS'), ('him', 'PPO'), ('to', 'TO'), ('take', 'VB'), ('the', 'AT'), ('remainder', 'NN'), ('of', 'IN'), ('the', 'AT'), ('term', 'NN'), ('off', 'RP'), (',', ','), ('spend', 'VB'), ('a', 'AT'), ('lot', 'NN'), ('of', 'IN'), ('time', 'NN'), ('in', 'IN'), ('bed', 'NN'), ('and', 'CC'), (',', ','), ('for', 'IN'), ('the', 'AT'), ('rest', 'NN'), (',', ','), ('do', 'DO'), ('pretty', 'QL'), ('much', 'RB'), ('as', 'CS'), ('he', 'PPS'), ('chose', 'VBD'), ('--', '--'), ('provided', 'VBN'), (',', ','), ('of', 'IN'), ('course', 'NN'), (',', ','), ('he', 'PPS'), ('chose', 'VBD'), ('to', 'TO'), ('do', 'DO'), ('nothing', 'PN'), ('too', 'QL'), ('exciting', 'JJ'), ('or', 'CC'), ('too', 'QL'), ('debilitating', 'JJ'), ('.', '.')], [('His', 'PP$'), ('teacher', 'NN'), ('and', 'CC'), ('his', 'PP$'), ('school', 'NN'), ('principal', 'NN'), ('were', 'BED'), ('conferred', 'VBN'), ('with', 'IN'), ('and', 'CC'), ('everyone', 'PN'), ('agreed', 'VBD'), ('that', 'CS'), (',', ','), ('if', 'CS'), ('he', 'PPS'), ('kept', 'VBD'), ('up', 'RP'), ('with', 'IN'), ('a', 'AT'), ('certain', 'AP'), ('amount', 'NN'), ('of', 'IN'), ('work', 'NN'), ('at', 'IN'), ('home', 'NN'), (',', ','), ('there', 'EX'), ('was', 'BEDZ'), ('little', 'AP'), ('danger', 'NN'), ('of', 'IN'), ('his', 'PP$'), ('losing', 'VBG'), ('a', 'AT'), ('term', 'NN'), ('.', '.')]], [[('Scotty', 'NP'), ('accepted', 'VBD'), ('the', 'AT'), ('decision', 'NN'), ('with', 'IN'), ('indifference', 'NN'), ('and', 'CC'), ('did', 'DOD'), ('not', '*'), ('enter', 'VB'), ('the', 'AT'), ('arguments', 'NNS'), ('.', '.')]], ...]\n"
          ]
        }
      ]
    },
    {
      "cell_type": "code",
      "source": [
        "#3\n",
        "f = open(\"kane_nlp.txt\", 'r', errors = 'ignore')\n",
        "a = f.read()\n",
        "a"
      ],
      "metadata": {
        "colab": {
          "base_uri": "https://localhost:8080/",
          "height": 139
        },
        "id": "fPDj3l5_Bnf2",
        "outputId": "a91a5a7a-814a-4687-9b56-306de92fdbee"
      },
      "execution_count": 28,
      "outputs": [
        {
          "output_type": "execute_result",
          "data": {
            "text/plain": [
              "'The Kane Chronicles\\n\\nThe first book in the series, The Red Pyramid, was released on May 4, 2010. \\nThe story is told as a transcription of a recording made by Sadie and Carter Kane, detailing the rise of the Egyptian gods in the modern world.\\n\\nAfter a mysterious accident in a museum leaves their egyptologist father missing, \\nsiblings Carter and Sadie Kane are taken in by their uncle Amos and introduced to their\\n family\\'s long and proud tradition of magic. The duo discovers that they have been chosen \\nas \"hosts\" by the gods Horus and Isis, respectively, and are hunted by the House of Life, \\nthe world\\'s governing body of Egyptian magicians. They are being hunted by the house of life as \\nthey have forbidden magicians to follow the path of the gods. In Egyptian, the house of life translates to per ankh.\\n As a result. Carter and Sadie learn that the god Set plans to destroy the North American continent using their father\\'s power, \\nand they embark on a quest to save him and prove their innocence and good intentions to the House. While on their quest, \\nthey learn that a greater threat is rising: Apophis.\\n\\nThe second book in the series, The Throne of Fire, was released on May 4, 2011. \\nThe book takes place roughly three months after the events of the first book, The Red Pyramid.\\n\\nCarter and Sadie Kane have recruited several students to follow the path of the gods, but are still fugitives from the House of Life. \\nThe young magicians secretly plan to find the long-lost king of the gods, Ra, hoping he will help them fight Apophis, \\na powerful god of chaos who masterminded Set\\'s scheme earlier that year (in The Red Pyramid). \\nThey journey across the world looking for three scrolls to awaken Ra\\'s three aspects and to find Ra\\'s location \\n(as well as the location of a missing magician named Zia Rashid), and finally into the Duat to rescue Ra and \\ndrive Apophis further from the mortal world.\\n\\nThe third and last volume, The Serpent\\'s Shadow, was released on May 1, 2012.\\n\\nA few months after the events of the previous book, the House of Life is battling repeated invasions by the forces of chaos, \\nleading the Kanes and their trainees to look desperately for a way to stop Apophis. They finally settle on a difficult method \\ninvolving part of Apophis\\'s soul (the Serpent\\'s sheut) and go to great lengths to ensure they will be able to use the sheut \\nto defeat Apophis successfully. With the help of all the gods, especially Ra (hosted by Zia Rashid), \\nthe Kane siblings are able to finally banish Apophis and save their friends, although their actions have the unintended consequence \\nof driving the gods away from the mortal world.'"
            ],
            "application/vnd.google.colaboratory.intrinsic+json": {
              "type": "string"
            }
          },
          "metadata": {},
          "execution_count": 28
        }
      ]
    },
    {
      "cell_type": "code",
      "source": [
        "number_of_words = 0\n",
        "with open(r'kane_nlp.txt','r') as file:\n",
        "\tdata = file.read()\n",
        "\tlines = data.split()\n",
        "\tnumber_of_words += len(lines)\n",
        "print(number_of_words)"
      ],
      "metadata": {
        "colab": {
          "base_uri": "https://localhost:8080/"
        },
        "id": "tzc-rcaTuYz2",
        "outputId": "bf45b5e6-cd66-443f-a39c-7d7198bf1fb3"
      },
      "execution_count": 29,
      "outputs": [
        {
          "output_type": "stream",
          "name": "stdout",
          "text": [
            "466\n"
          ]
        }
      ]
    },
    {
      "cell_type": "code",
      "source": [
        "from collections import Counter\n",
        "the_count = Counter(a)\n",
        "print(the_count)"
      ],
      "metadata": {
        "colab": {
          "base_uri": "https://localhost:8080/"
        },
        "id": "JdaxpFYA6yCm",
        "outputId": "70dbaaa9-f8fa-4a48-dd5a-7532da015b74"
      },
      "execution_count": 30,
      "outputs": [
        {
          "output_type": "stream",
          "name": "stdout",
          "text": [
            "Counter({' ': 459, 'e': 261, 't': 180, 'a': 163, 'o': 163, 's': 143, 'i': 136, 'h': 131, 'n': 130, 'r': 116, 'd': 88, 'l': 83, 'f': 58, 'g': 49, 'y': 44, 'u': 44, 'p': 42, 'c': 40, 'm': 34, '\\n': 32, ',': 28, 'b': 25, 'v': 22, 'w': 21, '.': 18, 'T': 17, 'k': 13, 'A': 12, 'R': 10, 'S': 9, \"'\": 9, 'K': 6, 'C': 5, '1': 5, 'H': 5, '2': 4, '0': 4, '(': 4, ')': 4, 'P': 3, 'M': 3, 'E': 3, 'L': 3, 'q': 3, '4': 2, '\"': 2, 'I': 2, 'W': 2, 'Z': 2, 'N': 1, ':': 1, 'F': 1, '-': 1, 'j': 1, 'D': 1})\n"
          ]
        }
      ]
    },
    {
      "cell_type": "code",
      "source": [
        "from collections import Counter\n",
        "split_it = a.split()\n",
        "Counter = Counter(split_it)\n",
        "most_occur = Counter.most_common(4)\n",
        "print(most_occur)"
      ],
      "metadata": {
        "colab": {
          "base_uri": "https://localhost:8080/"
        },
        "id": "EAwpuhNw7l5g",
        "outputId": "4981dc68-f7dc-46a6-ce5f-1461cae026a7"
      },
      "execution_count": 31,
      "outputs": [
        {
          "output_type": "stream",
          "name": "stdout",
          "text": [
            "[('the', 38), ('of', 21), ('and', 18), ('to', 18)]\n"
          ]
        }
      ]
    },
    {
      "cell_type": "code",
      "source": [
        "nltk.download('punkt') \n",
        "nltk.download('wordnet') \n",
        "from nltk.tokenize import sent_tokenize, word_tokenize\n",
        "sentences= nltk.sent_tokenize(a)\n",
        "length= len(sentences)\n",
        "length\n",
        "     "
      ],
      "metadata": {
        "colab": {
          "base_uri": "https://localhost:8080/"
        },
        "id": "Q3KI6Dp0CMYX",
        "outputId": "ffcc1645-87b3-4775-ddb7-a63cc782e31b"
      },
      "execution_count": 32,
      "outputs": [
        {
          "output_type": "stream",
          "name": "stderr",
          "text": [
            "[nltk_data] Downloading package punkt to /root/nltk_data...\n",
            "[nltk_data]   Package punkt is already up-to-date!\n",
            "[nltk_data] Downloading package wordnet to /root/nltk_data...\n",
            "[nltk_data]   Package wordnet is already up-to-date!\n"
          ]
        },
        {
          "output_type": "execute_result",
          "data": {
            "text/plain": [
              "18"
            ]
          },
          "metadata": {},
          "execution_count": 32
        }
      ]
    },
    {
      "cell_type": "code",
      "source": [
        "a = a.lower()\n",
        "from nltk.tokenize import sent_tokenize, word_tokenize\n",
        "sent_tokens = nltk.sent_tokenize(a) \n",
        "word_tokens = nltk.word_tokenize(a) \n",
        "sent_tokens"
      ],
      "metadata": {
        "colab": {
          "base_uri": "https://localhost:8080/"
        },
        "id": "r8JTSwcvCRyT",
        "outputId": "afb3fa05-ecfb-4eaf-9a40-db2a62390b09"
      },
      "execution_count": 34,
      "outputs": [
        {
          "output_type": "execute_result",
          "data": {
            "text/plain": [
              "['the kane chronicles\\n\\nthe first book in the series, the red pyramid, was released on may 4, 2010. \\nthe story is told as a transcription of a recording made by sadie and carter kane, detailing the rise of the egyptian gods in the modern world.',\n",
              " \"after a mysterious accident in a museum leaves their egyptologist father missing, \\nsiblings carter and sadie kane are taken in by their uncle amos and introduced to their\\n family's long and proud tradition of magic.\",\n",
              " 'the duo discovers that they have been chosen \\nas \"hosts\" by the gods horus and isis, respectively, and are hunted by the house of life, \\nthe world\\'s governing body of egyptian magicians.',\n",
              " 'they are being hunted by the house of life as \\nthey have forbidden magicians to follow the path of the gods.',\n",
              " 'in egyptian, the house of life translates to per ankh.',\n",
              " 'as a result.',\n",
              " \"carter and sadie learn that the god set plans to destroy the north american continent using their father's power, \\nand they embark on a quest to save him and prove their innocence and good intentions to the house.\",\n",
              " 'while on their quest, \\nthey learn that a greater threat is rising: apophis.',\n",
              " 'the second book in the series, the throne of fire, was released on may 4, 2011. \\nthe book takes place roughly three months after the events of the first book, the red pyramid.',\n",
              " 'carter and sadie kane have recruited several students to follow the path of the gods, but are still fugitives from the house of life.',\n",
              " \"the young magicians secretly plan to find the long-lost king of the gods, ra, hoping he will help them fight apophis, \\na powerful god of chaos who masterminded set's scheme earlier that year (in the red pyramid).\",\n",
              " \"they journey across the world looking for three scrolls to awaken ra's three aspects and to find ra's location \\n(as well as the location of a missing magician named zia rashid), and finally into the duat to rescue ra and \\ndrive apophis further from the mortal world.\",\n",
              " \"the third and last volume, the serpent's shadow, was released on may 1, 2012.\\n\\na few months after the events of the previous book, the house of life is battling repeated invasions by the forces of chaos, \\nleading the kanes and their trainees to look desperately for a way to stop apophis.\",\n",
              " \"they finally settle on a difficult method \\ninvolving part of apophis's soul (the serpent's sheut) and go to great lengths to ensure they will be able to use the sheut \\nto defeat apophis successfully.\",\n",
              " 'with the help of all the gods, especially ra (hosted by zia rashid), \\nthe kane siblings are able to finally banish apophis and save their friends, although their actions have the unintended consequence \\nof driving the gods away from the mortal world.']"
            ]
          },
          "metadata": {},
          "execution_count": 34
        }
      ]
    },
    {
      "cell_type": "code",
      "source": [
        "word_tokens"
      ],
      "metadata": {
        "colab": {
          "base_uri": "https://localhost:8080/"
        },
        "id": "3swRkFbBDg3k",
        "outputId": "322a517b-603a-4139-de6c-9745b39259c2"
      },
      "execution_count": 42,
      "outputs": [
        {
          "output_type": "execute_result",
          "data": {
            "text/plain": [
              "['the',\n",
              " 'kane',\n",
              " 'chronicles',\n",
              " 'the',\n",
              " 'first',\n",
              " 'book',\n",
              " 'in',\n",
              " 'the',\n",
              " 'series',\n",
              " ',',\n",
              " 'the',\n",
              " 'red',\n",
              " 'pyramid',\n",
              " ',',\n",
              " 'was',\n",
              " 'released',\n",
              " 'on',\n",
              " 'may',\n",
              " '4',\n",
              " ',',\n",
              " '2010.',\n",
              " 'the',\n",
              " 'story',\n",
              " 'is',\n",
              " 'told',\n",
              " 'as',\n",
              " 'a',\n",
              " 'transcription',\n",
              " 'of',\n",
              " 'a',\n",
              " 'recording',\n",
              " 'made',\n",
              " 'by',\n",
              " 'sadie',\n",
              " 'and',\n",
              " 'carter',\n",
              " 'kane',\n",
              " ',',\n",
              " 'detailing',\n",
              " 'the',\n",
              " 'rise',\n",
              " 'of',\n",
              " 'the',\n",
              " 'egyptian',\n",
              " 'gods',\n",
              " 'in',\n",
              " 'the',\n",
              " 'modern',\n",
              " 'world',\n",
              " '.',\n",
              " 'after',\n",
              " 'a',\n",
              " 'mysterious',\n",
              " 'accident',\n",
              " 'in',\n",
              " 'a',\n",
              " 'museum',\n",
              " 'leaves',\n",
              " 'their',\n",
              " 'egyptologist',\n",
              " 'father',\n",
              " 'missing',\n",
              " ',',\n",
              " 'siblings',\n",
              " 'carter',\n",
              " 'and',\n",
              " 'sadie',\n",
              " 'kane',\n",
              " 'are',\n",
              " 'taken',\n",
              " 'in',\n",
              " 'by',\n",
              " 'their',\n",
              " 'uncle',\n",
              " 'amos',\n",
              " 'and',\n",
              " 'introduced',\n",
              " 'to',\n",
              " 'their',\n",
              " 'family',\n",
              " \"'s\",\n",
              " 'long',\n",
              " 'and',\n",
              " 'proud',\n",
              " 'tradition',\n",
              " 'of',\n",
              " 'magic',\n",
              " '.',\n",
              " 'the',\n",
              " 'duo',\n",
              " 'discovers',\n",
              " 'that',\n",
              " 'they',\n",
              " 'have',\n",
              " 'been',\n",
              " 'chosen',\n",
              " 'as',\n",
              " '``',\n",
              " 'hosts',\n",
              " \"''\",\n",
              " 'by',\n",
              " 'the',\n",
              " 'gods',\n",
              " 'horus',\n",
              " 'and',\n",
              " 'isis',\n",
              " ',',\n",
              " 'respectively',\n",
              " ',',\n",
              " 'and',\n",
              " 'are',\n",
              " 'hunted',\n",
              " 'by',\n",
              " 'the',\n",
              " 'house',\n",
              " 'of',\n",
              " 'life',\n",
              " ',',\n",
              " 'the',\n",
              " 'world',\n",
              " \"'s\",\n",
              " 'governing',\n",
              " 'body',\n",
              " 'of',\n",
              " 'egyptian',\n",
              " 'magicians',\n",
              " '.',\n",
              " 'they',\n",
              " 'are',\n",
              " 'being',\n",
              " 'hunted',\n",
              " 'by',\n",
              " 'the',\n",
              " 'house',\n",
              " 'of',\n",
              " 'life',\n",
              " 'as',\n",
              " 'they',\n",
              " 'have',\n",
              " 'forbidden',\n",
              " 'magicians',\n",
              " 'to',\n",
              " 'follow',\n",
              " 'the',\n",
              " 'path',\n",
              " 'of',\n",
              " 'the',\n",
              " 'gods',\n",
              " '.',\n",
              " 'in',\n",
              " 'egyptian',\n",
              " ',',\n",
              " 'the',\n",
              " 'house',\n",
              " 'of',\n",
              " 'life',\n",
              " 'translates',\n",
              " 'to',\n",
              " 'per',\n",
              " 'ankh',\n",
              " '.',\n",
              " 'as',\n",
              " 'a',\n",
              " 'result',\n",
              " '.',\n",
              " 'carter',\n",
              " 'and',\n",
              " 'sadie',\n",
              " 'learn',\n",
              " 'that',\n",
              " 'the',\n",
              " 'god',\n",
              " 'set',\n",
              " 'plans',\n",
              " 'to',\n",
              " 'destroy',\n",
              " 'the',\n",
              " 'north',\n",
              " 'american',\n",
              " 'continent',\n",
              " 'using',\n",
              " 'their',\n",
              " 'father',\n",
              " \"'s\",\n",
              " 'power',\n",
              " ',',\n",
              " 'and',\n",
              " 'they',\n",
              " 'embark',\n",
              " 'on',\n",
              " 'a',\n",
              " 'quest',\n",
              " 'to',\n",
              " 'save',\n",
              " 'him',\n",
              " 'and',\n",
              " 'prove',\n",
              " 'their',\n",
              " 'innocence',\n",
              " 'and',\n",
              " 'good',\n",
              " 'intentions',\n",
              " 'to',\n",
              " 'the',\n",
              " 'house',\n",
              " '.',\n",
              " 'while',\n",
              " 'on',\n",
              " 'their',\n",
              " 'quest',\n",
              " ',',\n",
              " 'they',\n",
              " 'learn',\n",
              " 'that',\n",
              " 'a',\n",
              " 'greater',\n",
              " 'threat',\n",
              " 'is',\n",
              " 'rising',\n",
              " ':',\n",
              " 'apophis',\n",
              " '.',\n",
              " 'the',\n",
              " 'second',\n",
              " 'book',\n",
              " 'in',\n",
              " 'the',\n",
              " 'series',\n",
              " ',',\n",
              " 'the',\n",
              " 'throne',\n",
              " 'of',\n",
              " 'fire',\n",
              " ',',\n",
              " 'was',\n",
              " 'released',\n",
              " 'on',\n",
              " 'may',\n",
              " '4',\n",
              " ',',\n",
              " '2011.',\n",
              " 'the',\n",
              " 'book',\n",
              " 'takes',\n",
              " 'place',\n",
              " 'roughly',\n",
              " 'three',\n",
              " 'months',\n",
              " 'after',\n",
              " 'the',\n",
              " 'events',\n",
              " 'of',\n",
              " 'the',\n",
              " 'first',\n",
              " 'book',\n",
              " ',',\n",
              " 'the',\n",
              " 'red',\n",
              " 'pyramid',\n",
              " '.',\n",
              " 'carter',\n",
              " 'and',\n",
              " 'sadie',\n",
              " 'kane',\n",
              " 'have',\n",
              " 'recruited',\n",
              " 'several',\n",
              " 'students',\n",
              " 'to',\n",
              " 'follow',\n",
              " 'the',\n",
              " 'path',\n",
              " 'of',\n",
              " 'the',\n",
              " 'gods',\n",
              " ',',\n",
              " 'but',\n",
              " 'are',\n",
              " 'still',\n",
              " 'fugitives',\n",
              " 'from',\n",
              " 'the',\n",
              " 'house',\n",
              " 'of',\n",
              " 'life',\n",
              " '.',\n",
              " 'the',\n",
              " 'young',\n",
              " 'magicians',\n",
              " 'secretly',\n",
              " 'plan',\n",
              " 'to',\n",
              " 'find',\n",
              " 'the',\n",
              " 'long-lost',\n",
              " 'king',\n",
              " 'of',\n",
              " 'the',\n",
              " 'gods',\n",
              " ',',\n",
              " 'ra',\n",
              " ',',\n",
              " 'hoping',\n",
              " 'he',\n",
              " 'will',\n",
              " 'help',\n",
              " 'them',\n",
              " 'fight',\n",
              " 'apophis',\n",
              " ',',\n",
              " 'a',\n",
              " 'powerful',\n",
              " 'god',\n",
              " 'of',\n",
              " 'chaos',\n",
              " 'who',\n",
              " 'masterminded',\n",
              " 'set',\n",
              " \"'s\",\n",
              " 'scheme',\n",
              " 'earlier',\n",
              " 'that',\n",
              " 'year',\n",
              " '(',\n",
              " 'in',\n",
              " 'the',\n",
              " 'red',\n",
              " 'pyramid',\n",
              " ')',\n",
              " '.',\n",
              " 'they',\n",
              " 'journey',\n",
              " 'across',\n",
              " 'the',\n",
              " 'world',\n",
              " 'looking',\n",
              " 'for',\n",
              " 'three',\n",
              " 'scrolls',\n",
              " 'to',\n",
              " 'awaken',\n",
              " 'ra',\n",
              " \"'s\",\n",
              " 'three',\n",
              " 'aspects',\n",
              " 'and',\n",
              " 'to',\n",
              " 'find',\n",
              " 'ra',\n",
              " \"'s\",\n",
              " 'location',\n",
              " '(',\n",
              " 'as',\n",
              " 'well',\n",
              " 'as',\n",
              " 'the',\n",
              " 'location',\n",
              " 'of',\n",
              " 'a',\n",
              " 'missing',\n",
              " 'magician',\n",
              " 'named',\n",
              " 'zia',\n",
              " 'rashid',\n",
              " ')',\n",
              " ',',\n",
              " 'and',\n",
              " 'finally',\n",
              " 'into',\n",
              " 'the',\n",
              " 'duat',\n",
              " 'to',\n",
              " 'rescue',\n",
              " 'ra',\n",
              " 'and',\n",
              " 'drive',\n",
              " 'apophis',\n",
              " 'further',\n",
              " 'from',\n",
              " 'the',\n",
              " 'mortal',\n",
              " 'world',\n",
              " '.',\n",
              " 'the',\n",
              " 'third',\n",
              " 'and',\n",
              " 'last',\n",
              " 'volume',\n",
              " ',',\n",
              " 'the',\n",
              " 'serpent',\n",
              " \"'s\",\n",
              " 'shadow',\n",
              " ',',\n",
              " 'was',\n",
              " 'released',\n",
              " 'on',\n",
              " 'may',\n",
              " '1',\n",
              " ',',\n",
              " '2012.',\n",
              " 'a',\n",
              " 'few',\n",
              " 'months',\n",
              " 'after',\n",
              " 'the',\n",
              " 'events',\n",
              " 'of',\n",
              " 'the',\n",
              " 'previous',\n",
              " 'book',\n",
              " ',',\n",
              " 'the',\n",
              " 'house',\n",
              " 'of',\n",
              " 'life',\n",
              " 'is',\n",
              " 'battling',\n",
              " 'repeated',\n",
              " 'invasions',\n",
              " 'by',\n",
              " 'the',\n",
              " 'forces',\n",
              " 'of',\n",
              " 'chaos',\n",
              " ',',\n",
              " 'leading',\n",
              " 'the',\n",
              " 'kanes',\n",
              " 'and',\n",
              " 'their',\n",
              " 'trainees',\n",
              " 'to',\n",
              " 'look',\n",
              " 'desperately',\n",
              " 'for',\n",
              " 'a',\n",
              " 'way',\n",
              " 'to',\n",
              " 'stop',\n",
              " 'apophis',\n",
              " '.',\n",
              " 'they',\n",
              " 'finally',\n",
              " 'settle',\n",
              " 'on',\n",
              " 'a',\n",
              " 'difficult',\n",
              " 'method',\n",
              " 'involving',\n",
              " 'part',\n",
              " 'of',\n",
              " 'apophis',\n",
              " \"'s\",\n",
              " 'soul',\n",
              " '(',\n",
              " 'the',\n",
              " 'serpent',\n",
              " \"'s\",\n",
              " 'sheut',\n",
              " ')',\n",
              " 'and',\n",
              " 'go',\n",
              " 'to',\n",
              " 'great',\n",
              " 'lengths',\n",
              " 'to',\n",
              " 'ensure',\n",
              " 'they',\n",
              " 'will',\n",
              " 'be',\n",
              " 'able',\n",
              " 'to',\n",
              " 'use',\n",
              " 'the',\n",
              " 'sheut',\n",
              " 'to',\n",
              " 'defeat',\n",
              " 'apophis',\n",
              " 'successfully',\n",
              " '.',\n",
              " 'with',\n",
              " 'the',\n",
              " 'help',\n",
              " 'of',\n",
              " 'all',\n",
              " 'the',\n",
              " 'gods',\n",
              " ',',\n",
              " 'especially',\n",
              " 'ra',\n",
              " '(',\n",
              " 'hosted',\n",
              " 'by',\n",
              " 'zia',\n",
              " 'rashid',\n",
              " ')',\n",
              " ',',\n",
              " 'the',\n",
              " 'kane',\n",
              " 'siblings',\n",
              " 'are',\n",
              " 'able',\n",
              " 'to',\n",
              " 'finally',\n",
              " 'banish',\n",
              " 'apophis',\n",
              " 'and',\n",
              " 'save',\n",
              " 'their',\n",
              " 'friends',\n",
              " ',',\n",
              " 'although',\n",
              " 'their',\n",
              " 'actions',\n",
              " 'have',\n",
              " 'the',\n",
              " 'unintended',\n",
              " 'consequence',\n",
              " 'of',\n",
              " 'driving',\n",
              " 'the',\n",
              " 'gods',\n",
              " 'away',\n",
              " 'from',\n",
              " 'the',\n",
              " 'mortal',\n",
              " 'world',\n",
              " '.']"
            ]
          },
          "metadata": {},
          "execution_count": 42
        }
      ]
    },
    {
      "cell_type": "code",
      "source": [
        "import nltk\n",
        "from nltk.corpus import stopwords\n",
        "nltk.download('stopwords')\n",
        "from nltk.tokenize import word_tokenize\n",
        "tokens = word_tokenize(a)\n",
        "filtered_text = [t for t in tokens if not t in stopwords.words(\"english\")]"
      ],
      "metadata": {
        "colab": {
          "base_uri": "https://localhost:8080/"
        },
        "id": "vzHygiQ4CqMC",
        "outputId": "a493b3c1-fd57-499a-dc36-e0730acb1ed3"
      },
      "execution_count": 36,
      "outputs": [
        {
          "output_type": "stream",
          "name": "stderr",
          "text": [
            "[nltk_data] Downloading package stopwords to /root/nltk_data...\n",
            "[nltk_data]   Unzipping corpora/stopwords.zip.\n"
          ]
        }
      ]
    },
    {
      "cell_type": "code",
      "source": [
        "print(\" \".join(filtered_text))"
      ],
      "metadata": {
        "colab": {
          "base_uri": "https://localhost:8080/"
        },
        "id": "9N-KTIbKC9lB",
        "outputId": "aadb3e3f-0e49-4cff-a7d8-c557d29a3270"
      },
      "execution_count": 37,
      "outputs": [
        {
          "output_type": "stream",
          "name": "stdout",
          "text": [
            "kane chronicles first book series , red pyramid , released may 4 , 2010. story told transcription recording made sadie carter kane , detailing rise egyptian gods modern world . mysterious accident museum leaves egyptologist father missing , siblings carter sadie kane taken uncle amos introduced family 's long proud tradition magic . duo discovers chosen `` hosts '' gods horus isis , respectively , hunted house life , world 's governing body egyptian magicians . hunted house life forbidden magicians follow path gods . egyptian , house life translates per ankh . result . carter sadie learn god set plans destroy north american continent using father 's power , embark quest save prove innocence good intentions house . quest , learn greater threat rising : apophis . second book series , throne fire , released may 4 , 2011. book takes place roughly three months events first book , red pyramid . carter sadie kane recruited several students follow path gods , still fugitives house life . young magicians secretly plan find long-lost king gods , ra , hoping help fight apophis , powerful god chaos masterminded set 's scheme earlier year ( red pyramid ) . journey across world looking three scrolls awaken ra 's three aspects find ra 's location ( well location missing magician named zia rashid ) , finally duat rescue ra drive apophis mortal world . third last volume , serpent 's shadow , released may 1 , 2012. months events previous book , house life battling repeated invasions forces chaos , leading kanes trainees look desperately way stop apophis . finally settle difficult method involving part apophis 's soul ( serpent 's sheut ) go great lengths ensure able use sheut defeat apophis successfully . help gods , especially ra ( hosted zia rashid ) , kane siblings able finally banish apophis save friends , although actions unintended consequence driving gods away mortal world .\n"
          ]
        }
      ]
    },
    {
      "cell_type": "code",
      "source": [
        "from nltk.stem import PorterStemmer\n",
        "from nltk.tokenize import word_tokenize\n",
        "import pandas as pd \n",
        "ps = PorterStemmer()\n",
        "tokens = word_tokenize(a)\n",
        "print(tokens)\n",
        "stemmed = []\n",
        "for token in tokens:\n",
        "     stemmed_word = ps.stem(token)\n",
        "     stemmed.append(stemmed_word)\n",
        "print(stemmed)\n",
        "df = pd.DataFrame(data={\"tokens\":tokens, \"stemmed\": stemmed})"
      ],
      "metadata": {
        "colab": {
          "base_uri": "https://localhost:8080/"
        },
        "id": "a01tC6bhDDxP",
        "outputId": "b918ba26-8680-416e-b0e4-506dc64d6d9c"
      },
      "execution_count": 39,
      "outputs": [
        {
          "output_type": "stream",
          "name": "stdout",
          "text": [
            "['the', 'kane', 'chronicles', 'the', 'first', 'book', 'in', 'the', 'series', ',', 'the', 'red', 'pyramid', ',', 'was', 'released', 'on', 'may', '4', ',', '2010.', 'the', 'story', 'is', 'told', 'as', 'a', 'transcription', 'of', 'a', 'recording', 'made', 'by', 'sadie', 'and', 'carter', 'kane', ',', 'detailing', 'the', 'rise', 'of', 'the', 'egyptian', 'gods', 'in', 'the', 'modern', 'world', '.', 'after', 'a', 'mysterious', 'accident', 'in', 'a', 'museum', 'leaves', 'their', 'egyptologist', 'father', 'missing', ',', 'siblings', 'carter', 'and', 'sadie', 'kane', 'are', 'taken', 'in', 'by', 'their', 'uncle', 'amos', 'and', 'introduced', 'to', 'their', 'family', \"'s\", 'long', 'and', 'proud', 'tradition', 'of', 'magic', '.', 'the', 'duo', 'discovers', 'that', 'they', 'have', 'been', 'chosen', 'as', '``', 'hosts', \"''\", 'by', 'the', 'gods', 'horus', 'and', 'isis', ',', 'respectively', ',', 'and', 'are', 'hunted', 'by', 'the', 'house', 'of', 'life', ',', 'the', 'world', \"'s\", 'governing', 'body', 'of', 'egyptian', 'magicians', '.', 'they', 'are', 'being', 'hunted', 'by', 'the', 'house', 'of', 'life', 'as', 'they', 'have', 'forbidden', 'magicians', 'to', 'follow', 'the', 'path', 'of', 'the', 'gods', '.', 'in', 'egyptian', ',', 'the', 'house', 'of', 'life', 'translates', 'to', 'per', 'ankh', '.', 'as', 'a', 'result', '.', 'carter', 'and', 'sadie', 'learn', 'that', 'the', 'god', 'set', 'plans', 'to', 'destroy', 'the', 'north', 'american', 'continent', 'using', 'their', 'father', \"'s\", 'power', ',', 'and', 'they', 'embark', 'on', 'a', 'quest', 'to', 'save', 'him', 'and', 'prove', 'their', 'innocence', 'and', 'good', 'intentions', 'to', 'the', 'house', '.', 'while', 'on', 'their', 'quest', ',', 'they', 'learn', 'that', 'a', 'greater', 'threat', 'is', 'rising', ':', 'apophis', '.', 'the', 'second', 'book', 'in', 'the', 'series', ',', 'the', 'throne', 'of', 'fire', ',', 'was', 'released', 'on', 'may', '4', ',', '2011.', 'the', 'book', 'takes', 'place', 'roughly', 'three', 'months', 'after', 'the', 'events', 'of', 'the', 'first', 'book', ',', 'the', 'red', 'pyramid', '.', 'carter', 'and', 'sadie', 'kane', 'have', 'recruited', 'several', 'students', 'to', 'follow', 'the', 'path', 'of', 'the', 'gods', ',', 'but', 'are', 'still', 'fugitives', 'from', 'the', 'house', 'of', 'life', '.', 'the', 'young', 'magicians', 'secretly', 'plan', 'to', 'find', 'the', 'long-lost', 'king', 'of', 'the', 'gods', ',', 'ra', ',', 'hoping', 'he', 'will', 'help', 'them', 'fight', 'apophis', ',', 'a', 'powerful', 'god', 'of', 'chaos', 'who', 'masterminded', 'set', \"'s\", 'scheme', 'earlier', 'that', 'year', '(', 'in', 'the', 'red', 'pyramid', ')', '.', 'they', 'journey', 'across', 'the', 'world', 'looking', 'for', 'three', 'scrolls', 'to', 'awaken', 'ra', \"'s\", 'three', 'aspects', 'and', 'to', 'find', 'ra', \"'s\", 'location', '(', 'as', 'well', 'as', 'the', 'location', 'of', 'a', 'missing', 'magician', 'named', 'zia', 'rashid', ')', ',', 'and', 'finally', 'into', 'the', 'duat', 'to', 'rescue', 'ra', 'and', 'drive', 'apophis', 'further', 'from', 'the', 'mortal', 'world', '.', 'the', 'third', 'and', 'last', 'volume', ',', 'the', 'serpent', \"'s\", 'shadow', ',', 'was', 'released', 'on', 'may', '1', ',', '2012.', 'a', 'few', 'months', 'after', 'the', 'events', 'of', 'the', 'previous', 'book', ',', 'the', 'house', 'of', 'life', 'is', 'battling', 'repeated', 'invasions', 'by', 'the', 'forces', 'of', 'chaos', ',', 'leading', 'the', 'kanes', 'and', 'their', 'trainees', 'to', 'look', 'desperately', 'for', 'a', 'way', 'to', 'stop', 'apophis', '.', 'they', 'finally', 'settle', 'on', 'a', 'difficult', 'method', 'involving', 'part', 'of', 'apophis', \"'s\", 'soul', '(', 'the', 'serpent', \"'s\", 'sheut', ')', 'and', 'go', 'to', 'great', 'lengths', 'to', 'ensure', 'they', 'will', 'be', 'able', 'to', 'use', 'the', 'sheut', 'to', 'defeat', 'apophis', 'successfully', '.', 'with', 'the', 'help', 'of', 'all', 'the', 'gods', ',', 'especially', 'ra', '(', 'hosted', 'by', 'zia', 'rashid', ')', ',', 'the', 'kane', 'siblings', 'are', 'able', 'to', 'finally', 'banish', 'apophis', 'and', 'save', 'their', 'friends', ',', 'although', 'their', 'actions', 'have', 'the', 'unintended', 'consequence', 'of', 'driving', 'the', 'gods', 'away', 'from', 'the', 'mortal', 'world', '.']\n",
            "['the', 'kane', 'chronicl', 'the', 'first', 'book', 'in', 'the', 'seri', ',', 'the', 'red', 'pyramid', ',', 'wa', 'releas', 'on', 'may', '4', ',', '2010.', 'the', 'stori', 'is', 'told', 'as', 'a', 'transcript', 'of', 'a', 'record', 'made', 'by', 'sadi', 'and', 'carter', 'kane', ',', 'detail', 'the', 'rise', 'of', 'the', 'egyptian', 'god', 'in', 'the', 'modern', 'world', '.', 'after', 'a', 'mysteri', 'accid', 'in', 'a', 'museum', 'leav', 'their', 'egyptologist', 'father', 'miss', ',', 'sibl', 'carter', 'and', 'sadi', 'kane', 'are', 'taken', 'in', 'by', 'their', 'uncl', 'amo', 'and', 'introduc', 'to', 'their', 'famili', \"'s\", 'long', 'and', 'proud', 'tradit', 'of', 'magic', '.', 'the', 'duo', 'discov', 'that', 'they', 'have', 'been', 'chosen', 'as', '``', 'host', \"''\", 'by', 'the', 'god', 'horu', 'and', 'isi', ',', 'respect', ',', 'and', 'are', 'hunt', 'by', 'the', 'hous', 'of', 'life', ',', 'the', 'world', \"'s\", 'govern', 'bodi', 'of', 'egyptian', 'magician', '.', 'they', 'are', 'be', 'hunt', 'by', 'the', 'hous', 'of', 'life', 'as', 'they', 'have', 'forbidden', 'magician', 'to', 'follow', 'the', 'path', 'of', 'the', 'god', '.', 'in', 'egyptian', ',', 'the', 'hous', 'of', 'life', 'translat', 'to', 'per', 'ankh', '.', 'as', 'a', 'result', '.', 'carter', 'and', 'sadi', 'learn', 'that', 'the', 'god', 'set', 'plan', 'to', 'destroy', 'the', 'north', 'american', 'contin', 'use', 'their', 'father', \"'s\", 'power', ',', 'and', 'they', 'embark', 'on', 'a', 'quest', 'to', 'save', 'him', 'and', 'prove', 'their', 'innoc', 'and', 'good', 'intent', 'to', 'the', 'hous', '.', 'while', 'on', 'their', 'quest', ',', 'they', 'learn', 'that', 'a', 'greater', 'threat', 'is', 'rise', ':', 'apophi', '.', 'the', 'second', 'book', 'in', 'the', 'seri', ',', 'the', 'throne', 'of', 'fire', ',', 'wa', 'releas', 'on', 'may', '4', ',', '2011.', 'the', 'book', 'take', 'place', 'roughli', 'three', 'month', 'after', 'the', 'event', 'of', 'the', 'first', 'book', ',', 'the', 'red', 'pyramid', '.', 'carter', 'and', 'sadi', 'kane', 'have', 'recruit', 'sever', 'student', 'to', 'follow', 'the', 'path', 'of', 'the', 'god', ',', 'but', 'are', 'still', 'fugit', 'from', 'the', 'hous', 'of', 'life', '.', 'the', 'young', 'magician', 'secretli', 'plan', 'to', 'find', 'the', 'long-lost', 'king', 'of', 'the', 'god', ',', 'ra', ',', 'hope', 'he', 'will', 'help', 'them', 'fight', 'apophi', ',', 'a', 'power', 'god', 'of', 'chao', 'who', 'mastermind', 'set', \"'s\", 'scheme', 'earlier', 'that', 'year', '(', 'in', 'the', 'red', 'pyramid', ')', '.', 'they', 'journey', 'across', 'the', 'world', 'look', 'for', 'three', 'scroll', 'to', 'awaken', 'ra', \"'s\", 'three', 'aspect', 'and', 'to', 'find', 'ra', \"'s\", 'locat', '(', 'as', 'well', 'as', 'the', 'locat', 'of', 'a', 'miss', 'magician', 'name', 'zia', 'rashid', ')', ',', 'and', 'final', 'into', 'the', 'duat', 'to', 'rescu', 'ra', 'and', 'drive', 'apophi', 'further', 'from', 'the', 'mortal', 'world', '.', 'the', 'third', 'and', 'last', 'volum', ',', 'the', 'serpent', \"'s\", 'shadow', ',', 'wa', 'releas', 'on', 'may', '1', ',', '2012.', 'a', 'few', 'month', 'after', 'the', 'event', 'of', 'the', 'previou', 'book', ',', 'the', 'hous', 'of', 'life', 'is', 'battl', 'repeat', 'invas', 'by', 'the', 'forc', 'of', 'chao', ',', 'lead', 'the', 'kane', 'and', 'their', 'traine', 'to', 'look', 'desper', 'for', 'a', 'way', 'to', 'stop', 'apophi', '.', 'they', 'final', 'settl', 'on', 'a', 'difficult', 'method', 'involv', 'part', 'of', 'apophi', \"'s\", 'soul', '(', 'the', 'serpent', \"'s\", 'sheut', ')', 'and', 'go', 'to', 'great', 'length', 'to', 'ensur', 'they', 'will', 'be', 'abl', 'to', 'use', 'the', 'sheut', 'to', 'defeat', 'apophi', 'success', '.', 'with', 'the', 'help', 'of', 'all', 'the', 'god', ',', 'especi', 'ra', '(', 'host', 'by', 'zia', 'rashid', ')', ',', 'the', 'kane', 'sibl', 'are', 'abl', 'to', 'final', 'banish', 'apophi', 'and', 'save', 'their', 'friend', ',', 'although', 'their', 'action', 'have', 'the', 'unintend', 'consequ', 'of', 'drive', 'the', 'god', 'away', 'from', 'the', 'mortal', 'world', '.']\n"
          ]
        }
      ]
    },
    {
      "cell_type": "code",
      "source": [
        "import nltk\n",
        "nltk.download('omw-1.4')\n",
        "from nltk.stem import WordNetLemmatizer\n",
        "wordnet_lemmatizer = WordNetLemmatizer()\n",
        "punctuations=\"?:!.,;\"\n",
        "sentence_words = nltk.word_tokenize(a)\n",
        "for word in sentence_words:\n",
        "    if word in punctuations:\n",
        "        sentence_words.remove(word)\n",
        "\n",
        "sentence_words\n",
        "print(\"{0:20}{1:20}\".format(\"Word\",\"Lemma\"))\n",
        "for word in sentence_words:\n",
        "    print (\"{0:20}{1:20}\".format(word,wordnet_lemmatizer.lemmatize(word)))"
      ],
      "metadata": {
        "colab": {
          "base_uri": "https://localhost:8080/"
        },
        "id": "g5xkDYdZDPd5",
        "outputId": "6a1f6a7c-2462-4064-fe83-9b439c0d11ab"
      },
      "execution_count": 40,
      "outputs": [
        {
          "output_type": "stream",
          "name": "stderr",
          "text": [
            "[nltk_data] Downloading package omw-1.4 to /root/nltk_data...\n"
          ]
        },
        {
          "output_type": "stream",
          "name": "stdout",
          "text": [
            "Word                Lemma               \n",
            "the                 the                 \n",
            "kane                kane                \n",
            "chronicles          chronicle           \n",
            "the                 the                 \n",
            "first               first               \n",
            "book                book                \n",
            "in                  in                  \n",
            "the                 the                 \n",
            "series              series              \n",
            "the                 the                 \n",
            "red                 red                 \n",
            "pyramid             pyramid             \n",
            "was                 wa                  \n",
            "released            released            \n",
            "on                  on                  \n",
            "may                 may                 \n",
            "4                   4                   \n",
            "2010.               2010.               \n",
            "the                 the                 \n",
            "story               story               \n",
            "is                  is                  \n",
            "told                told                \n",
            "as                  a                   \n",
            "a                   a                   \n",
            "transcription       transcription       \n",
            "of                  of                  \n",
            "a                   a                   \n",
            "recording           recording           \n",
            "made                made                \n",
            "by                  by                  \n",
            "sadie               sadie               \n",
            "and                 and                 \n",
            "carter              carter              \n",
            "kane                kane                \n",
            "detailing           detailing           \n",
            "the                 the                 \n",
            "rise                rise                \n",
            "of                  of                  \n",
            "the                 the                 \n",
            "egyptian            egyptian            \n",
            "gods                god                 \n",
            "in                  in                  \n",
            "the                 the                 \n",
            "modern              modern              \n",
            "world               world               \n",
            "after               after               \n",
            "a                   a                   \n",
            "mysterious          mysterious          \n",
            "accident            accident            \n",
            "in                  in                  \n",
            "a                   a                   \n",
            "museum              museum              \n",
            "leaves              leaf                \n",
            "their               their               \n",
            "egyptologist        egyptologist        \n",
            "father              father              \n",
            "missing             missing             \n",
            "siblings            sibling             \n",
            "carter              carter              \n",
            "and                 and                 \n",
            "sadie               sadie               \n",
            "kane                kane                \n",
            "are                 are                 \n",
            "taken               taken               \n",
            "in                  in                  \n",
            "by                  by                  \n",
            "their               their               \n",
            "uncle               uncle               \n",
            "amos                amos                \n",
            "and                 and                 \n",
            "introduced          introduced          \n",
            "to                  to                  \n",
            "their               their               \n",
            "family              family              \n",
            "'s                  's                  \n",
            "long                long                \n",
            "and                 and                 \n",
            "proud               proud               \n",
            "tradition           tradition           \n",
            "of                  of                  \n",
            "magic               magic               \n",
            "the                 the                 \n",
            "duo                 duo                 \n",
            "discovers           discovers           \n",
            "that                that                \n",
            "they                they                \n",
            "have                have                \n",
            "been                been                \n",
            "chosen              chosen              \n",
            "as                  a                   \n",
            "``                  ``                  \n",
            "hosts               host                \n",
            "''                  ''                  \n",
            "by                  by                  \n",
            "the                 the                 \n",
            "gods                god                 \n",
            "horus               horus               \n",
            "and                 and                 \n",
            "isis                isi                 \n",
            "respectively        respectively        \n",
            "and                 and                 \n",
            "are                 are                 \n",
            "hunted              hunted              \n",
            "by                  by                  \n",
            "the                 the                 \n",
            "house               house               \n",
            "of                  of                  \n",
            "life                life                \n",
            "the                 the                 \n",
            "world               world               \n",
            "'s                  's                  \n",
            "governing           governing           \n",
            "body                body                \n",
            "of                  of                  \n",
            "egyptian            egyptian            \n",
            "magicians           magician            \n",
            "they                they                \n",
            "are                 are                 \n",
            "being               being               \n",
            "hunted              hunted              \n",
            "by                  by                  \n",
            "the                 the                 \n",
            "house               house               \n",
            "of                  of                  \n",
            "life                life                \n",
            "as                  a                   \n",
            "they                they                \n",
            "have                have                \n",
            "forbidden           forbidden           \n",
            "magicians           magician            \n",
            "to                  to                  \n",
            "follow              follow              \n",
            "the                 the                 \n",
            "path                path                \n",
            "of                  of                  \n",
            "the                 the                 \n",
            "gods                god                 \n",
            "in                  in                  \n",
            "egyptian            egyptian            \n",
            "the                 the                 \n",
            "house               house               \n",
            "of                  of                  \n",
            "life                life                \n",
            "translates          translates          \n",
            "to                  to                  \n",
            "per                 per                 \n",
            "ankh                ankh                \n",
            "as                  a                   \n",
            "a                   a                   \n",
            "result              result              \n",
            "carter              carter              \n",
            "and                 and                 \n",
            "sadie               sadie               \n",
            "learn               learn               \n",
            "that                that                \n",
            "the                 the                 \n",
            "god                 god                 \n",
            "set                 set                 \n",
            "plans               plan                \n",
            "to                  to                  \n",
            "destroy             destroy             \n",
            "the                 the                 \n",
            "north               north               \n",
            "american            american            \n",
            "continent           continent           \n",
            "using               using               \n",
            "their               their               \n",
            "father              father              \n",
            "'s                  's                  \n",
            "power               power               \n",
            "and                 and                 \n",
            "they                they                \n",
            "embark              embark              \n",
            "on                  on                  \n",
            "a                   a                   \n",
            "quest               quest               \n",
            "to                  to                  \n",
            "save                save                \n",
            "him                 him                 \n",
            "and                 and                 \n",
            "prove               prove               \n",
            "their               their               \n",
            "innocence           innocence           \n",
            "and                 and                 \n",
            "good                good                \n",
            "intentions          intention           \n",
            "to                  to                  \n",
            "the                 the                 \n",
            "house               house               \n",
            "while               while               \n",
            "on                  on                  \n",
            "their               their               \n",
            "quest               quest               \n",
            "they                they                \n",
            "learn               learn               \n",
            "that                that                \n",
            "a                   a                   \n",
            "greater             greater             \n",
            "threat              threat              \n",
            "is                  is                  \n",
            "rising              rising              \n",
            "apophis             apophis             \n",
            "the                 the                 \n",
            "second              second              \n",
            "book                book                \n",
            "in                  in                  \n",
            "the                 the                 \n",
            "series              series              \n",
            "the                 the                 \n",
            "throne              throne              \n",
            "of                  of                  \n",
            "fire                fire                \n",
            "was                 wa                  \n",
            "released            released            \n",
            "on                  on                  \n",
            "may                 may                 \n",
            "4                   4                   \n",
            "2011.               2011.               \n",
            "the                 the                 \n",
            "book                book                \n",
            "takes               take                \n",
            "place               place               \n",
            "roughly             roughly             \n",
            "three               three               \n",
            "months              month               \n",
            "after               after               \n",
            "the                 the                 \n",
            "events              event               \n",
            "of                  of                  \n",
            "the                 the                 \n",
            "first               first               \n",
            "book                book                \n",
            "the                 the                 \n",
            "red                 red                 \n",
            "pyramid             pyramid             \n",
            "carter              carter              \n",
            "and                 and                 \n",
            "sadie               sadie               \n",
            "kane                kane                \n",
            "have                have                \n",
            "recruited           recruited           \n",
            "several             several             \n",
            "students            student             \n",
            "to                  to                  \n",
            "follow              follow              \n",
            "the                 the                 \n",
            "path                path                \n",
            "of                  of                  \n",
            "the                 the                 \n",
            "gods                god                 \n",
            "but                 but                 \n",
            "are                 are                 \n",
            "still               still               \n",
            "fugitives           fugitive            \n",
            "from                from                \n",
            "the                 the                 \n",
            "house               house               \n",
            "of                  of                  \n",
            "life                life                \n",
            "the                 the                 \n",
            "young               young               \n",
            "magicians           magician            \n",
            "secretly            secretly            \n",
            "plan                plan                \n",
            "to                  to                  \n",
            "find                find                \n",
            "the                 the                 \n",
            "long-lost           long-lost           \n",
            "king                king                \n",
            "of                  of                  \n",
            "the                 the                 \n",
            "gods                god                 \n",
            "ra                  ra                  \n",
            "hoping              hoping              \n",
            "he                  he                  \n",
            "will                will                \n",
            "help                help                \n",
            "them                them                \n",
            "fight               fight               \n",
            "apophis             apophis             \n",
            "a                   a                   \n",
            "powerful            powerful            \n",
            "god                 god                 \n",
            "of                  of                  \n",
            "chaos               chaos               \n",
            "who                 who                 \n",
            "masterminded        masterminded        \n",
            "set                 set                 \n",
            "'s                  's                  \n",
            "scheme              scheme              \n",
            "earlier             earlier             \n",
            "that                that                \n",
            "year                year                \n",
            "(                   (                   \n",
            "in                  in                  \n",
            "the                 the                 \n",
            "red                 red                 \n",
            "pyramid             pyramid             \n",
            ")                   )                   \n",
            "they                they                \n",
            "journey             journey             \n",
            "across              across              \n",
            "the                 the                 \n",
            "world               world               \n",
            "looking             looking             \n",
            "for                 for                 \n",
            "three               three               \n",
            "scrolls             scroll              \n",
            "to                  to                  \n",
            "awaken              awaken              \n",
            "ra                  ra                  \n",
            "'s                  's                  \n",
            "three               three               \n",
            "aspects             aspect              \n",
            "and                 and                 \n",
            "to                  to                  \n",
            "find                find                \n",
            "ra                  ra                  \n",
            "'s                  's                  \n",
            "location            location            \n",
            "(                   (                   \n",
            "as                  a                   \n",
            "well                well                \n",
            "as                  a                   \n",
            "the                 the                 \n",
            "location            location            \n",
            "of                  of                  \n",
            "a                   a                   \n",
            "missing             missing             \n",
            "magician            magician            \n",
            "named               named               \n",
            "zia                 zia                 \n",
            "rashid              rashid              \n",
            ")                   )                   \n",
            "and                 and                 \n",
            "finally             finally             \n",
            "into                into                \n",
            "the                 the                 \n",
            "duat                duat                \n",
            "to                  to                  \n",
            "rescue              rescue              \n",
            "ra                  ra                  \n",
            "and                 and                 \n",
            "drive               drive               \n",
            "apophis             apophis             \n",
            "further             further             \n",
            "from                from                \n",
            "the                 the                 \n",
            "mortal              mortal              \n",
            "world               world               \n",
            "the                 the                 \n",
            "third               third               \n",
            "and                 and                 \n",
            "last                last                \n",
            "volume              volume              \n",
            "the                 the                 \n",
            "serpent             serpent             \n",
            "'s                  's                  \n",
            "shadow              shadow              \n",
            "was                 wa                  \n",
            "released            released            \n",
            "on                  on                  \n",
            "may                 may                 \n",
            "1                   1                   \n",
            "2012.               2012.               \n",
            "a                   a                   \n",
            "few                 few                 \n",
            "months              month               \n",
            "after               after               \n",
            "the                 the                 \n",
            "events              event               \n",
            "of                  of                  \n",
            "the                 the                 \n",
            "previous            previous            \n",
            "book                book                \n",
            "the                 the                 \n",
            "house               house               \n",
            "of                  of                  \n",
            "life                life                \n",
            "is                  is                  \n",
            "battling            battling            \n",
            "repeated            repeated            \n",
            "invasions           invasion            \n",
            "by                  by                  \n",
            "the                 the                 \n",
            "forces              force               \n",
            "of                  of                  \n",
            "chaos               chaos               \n",
            "leading             leading             \n",
            "the                 the                 \n",
            "kanes               kanes               \n",
            "and                 and                 \n",
            "their               their               \n",
            "trainees            trainee             \n",
            "to                  to                  \n",
            "look                look                \n",
            "desperately         desperately         \n",
            "for                 for                 \n",
            "a                   a                   \n",
            "way                 way                 \n",
            "to                  to                  \n",
            "stop                stop                \n",
            "apophis             apophis             \n",
            "they                they                \n",
            "finally             finally             \n",
            "settle              settle              \n",
            "on                  on                  \n",
            "a                   a                   \n",
            "difficult           difficult           \n",
            "method              method              \n",
            "involving           involving           \n",
            "part                part                \n",
            "of                  of                  \n",
            "apophis             apophis             \n",
            "'s                  's                  \n",
            "soul                soul                \n",
            "(                   (                   \n",
            "the                 the                 \n",
            "serpent             serpent             \n",
            "'s                  's                  \n",
            "sheut               sheut               \n",
            ")                   )                   \n",
            "and                 and                 \n",
            "go                  go                  \n",
            "to                  to                  \n",
            "great               great               \n",
            "lengths             length              \n",
            "to                  to                  \n",
            "ensure              ensure              \n",
            "they                they                \n",
            "will                will                \n",
            "be                  be                  \n",
            "able                able                \n",
            "to                  to                  \n",
            "use                 use                 \n",
            "the                 the                 \n",
            "sheut               sheut               \n",
            "to                  to                  \n",
            "defeat              defeat              \n",
            "apophis             apophis             \n",
            "successfully        successfully        \n",
            "with                with                \n",
            "the                 the                 \n",
            "help                help                \n",
            "of                  of                  \n",
            "all                 all                 \n",
            "the                 the                 \n",
            "gods                god                 \n",
            "especially          especially          \n",
            "ra                  ra                  \n",
            "(                   (                   \n",
            "hosted              hosted              \n",
            "by                  by                  \n",
            "zia                 zia                 \n",
            "rashid              rashid              \n",
            ")                   )                   \n",
            "the                 the                 \n",
            "kane                kane                \n",
            "siblings            sibling             \n",
            "are                 are                 \n",
            "able                able                \n",
            "to                  to                  \n",
            "finally             finally             \n",
            "banish              banish              \n",
            "apophis             apophis             \n",
            "and                 and                 \n",
            "save                save                \n",
            "their               their               \n",
            "friends             friend              \n",
            "although            although            \n",
            "their               their               \n",
            "actions             action              \n",
            "have                have                \n",
            "the                 the                 \n",
            "unintended          unintended          \n",
            "consequence         consequence         \n",
            "of                  of                  \n",
            "driving             driving             \n",
            "the                 the                 \n",
            "gods                god                 \n",
            "away                away                \n",
            "from                from                \n",
            "the                 the                 \n",
            "mortal              mortal              \n",
            "world               world               \n"
          ]
        }
      ]
    },
    {
      "cell_type": "code",
      "source": [
        "import nltk\n",
        "nltk.download('averaged_perceptron_tagger')\n",
        "from nltk.corpus import stopwords\n",
        "from nltk.tokenize import word_tokenize, sent_tokenize\n",
        "stop_words = set(stopwords.words('english'))\n",
        "tokenized = sent_tokenize(a)\n",
        "for i in tokenized:\n",
        "\twordsList = nltk.word_tokenize(i)\n",
        "\twordsList = [w for w in wordsList if not w in stop_words]\n",
        "\ttagged = nltk.pos_tag(wordsList)\n",
        "\tprint(tagged)"
      ],
      "metadata": {
        "colab": {
          "base_uri": "https://localhost:8080/"
        },
        "id": "1yR5HwnQDWdk",
        "outputId": "33c315cd-a0a6-4305-ab37-e9522685689b"
      },
      "execution_count": 41,
      "outputs": [
        {
          "output_type": "stream",
          "name": "stderr",
          "text": [
            "[nltk_data] Downloading package averaged_perceptron_tagger to\n",
            "[nltk_data]     /root/nltk_data...\n",
            "[nltk_data]   Unzipping taggers/averaged_perceptron_tagger.zip.\n"
          ]
        },
        {
          "output_type": "stream",
          "name": "stdout",
          "text": [
            "[('kane', 'NN'), ('chronicles', 'NNS'), ('first', 'RB'), ('book', 'NN'), ('series', 'NN'), (',', ','), ('red', 'JJ'), ('pyramid', 'NN'), (',', ','), ('released', 'VBN'), ('may', 'MD'), ('4', 'CD'), (',', ','), ('2010.', 'CD'), ('story', 'NN'), ('told', 'VBN'), ('transcription', 'NN'), ('recording', 'VBG'), ('made', 'VBN'), ('sadie', 'JJ'), ('carter', 'NN'), ('kane', 'NN'), (',', ','), ('detailing', 'VBG'), ('rise', 'NN'), ('egyptian', 'JJ'), ('gods', 'NNS'), ('modern', 'JJ'), ('world', 'NN'), ('.', '.')]\n",
            "[('mysterious', 'JJ'), ('accident', 'NN'), ('museum', 'NN'), ('leaves', 'VBZ'), ('egyptologist', 'VBP'), ('father', 'NN'), ('missing', 'NN'), (',', ','), ('siblings', 'NNS'), ('carter', 'VBP'), ('sadie', 'JJ'), ('kane', 'NN'), ('taken', 'VBN'), ('uncle', 'NN'), ('amos', 'NN'), ('introduced', 'VBD'), ('family', 'NN'), (\"'s\", 'POS'), ('long', 'JJ'), ('proud', 'JJ'), ('tradition', 'NN'), ('magic', 'NN'), ('.', '.')]\n",
            "[('duo', 'NN'), ('discovers', 'NNS'), ('chosen', 'VBP'), ('``', '``'), ('hosts', 'NNS'), (\"''\", \"''\"), ('gods', 'NNS'), ('horus', 'VBP'), ('isis', 'NN'), (',', ','), ('respectively', 'RB'), (',', ','), ('hunted', 'VBN'), ('house', 'NN'), ('life', 'NN'), (',', ','), ('world', 'NN'), (\"'s\", 'POS'), ('governing', 'VBG'), ('body', 'NN'), ('egyptian', 'JJ'), ('magicians', 'NNS'), ('.', '.')]\n",
            "[('hunted', 'VBN'), ('house', 'NN'), ('life', 'NN'), ('forbidden', 'JJ'), ('magicians', 'NNS'), ('follow', 'VBP'), ('path', 'NN'), ('gods', 'NNS'), ('.', '.')]\n",
            "[('egyptian', 'JJ'), (',', ','), ('house', 'NN'), ('life', 'NN'), ('translates', 'VBZ'), ('per', 'IN'), ('ankh', 'NN'), ('.', '.')]\n",
            "[('result', 'NN'), ('.', '.')]\n",
            "[('carter', 'NN'), ('sadie', 'NN'), ('learn', 'VBP'), ('god', 'NN'), ('set', 'VBN'), ('plans', 'NNS'), ('destroy', 'JJ'), ('north', 'JJ'), ('american', 'JJ'), ('continent', 'NN'), ('using', 'VBG'), ('father', 'NN'), (\"'s\", 'POS'), ('power', 'NN'), (',', ','), ('embark', 'NN'), ('quest', 'JJS'), ('save', 'NN'), ('prove', 'NN'), ('innocence', 'NN'), ('good', 'JJ'), ('intentions', 'NNS'), ('house', 'NN'), ('.', '.')]\n",
            "[('quest', 'JJS'), (',', ','), ('learn', 'VBP'), ('greater', 'JJR'), ('threat', 'NN'), ('rising', 'NN'), (':', ':'), ('apophis', 'NN'), ('.', '.')]\n",
            "[('second', 'JJ'), ('book', 'NN'), ('series', 'NN'), (',', ','), ('throne', 'NN'), ('fire', 'NN'), (',', ','), ('released', 'VBN'), ('may', 'MD'), ('4', 'CD'), (',', ','), ('2011.', 'CD'), ('book', 'NN'), ('takes', 'VBZ'), ('place', 'NN'), ('roughly', 'RB'), ('three', 'CD'), ('months', 'NNS'), ('events', 'NNS'), ('first', 'JJ'), ('book', 'NN'), (',', ','), ('red', 'JJ'), ('pyramid', 'NN'), ('.', '.')]\n",
            "[('carter', 'NN'), ('sadie', 'NN'), ('kane', 'NN'), ('recruited', 'VBD'), ('several', 'JJ'), ('students', 'NNS'), ('follow', 'VBP'), ('path', 'NN'), ('gods', 'NNS'), (',', ','), ('still', 'RB'), ('fugitives', 'VBZ'), ('house', 'NN'), ('life', 'NN'), ('.', '.')]\n",
            "[('young', 'JJ'), ('magicians', 'NNS'), ('secretly', 'RB'), ('plan', 'VBP'), ('find', 'VB'), ('long-lost', 'JJ'), ('king', 'NN'), ('gods', 'NNS'), (',', ','), ('ra', 'NN'), (',', ','), ('hoping', 'VBG'), ('help', 'NN'), ('fight', 'VB'), ('apophis', 'NN'), (',', ','), ('powerful', 'JJ'), ('god', 'JJ'), ('chaos', 'NN'), ('masterminded', 'VBD'), ('set', 'NN'), (\"'s\", 'POS'), ('scheme', 'NN'), ('earlier', 'RBR'), ('year', 'NN'), ('(', '('), ('red', 'JJ'), ('pyramid', 'NN'), (')', ')'), ('.', '.')]\n",
            "[('journey', 'NN'), ('across', 'IN'), ('world', 'NN'), ('looking', 'VBG'), ('three', 'CD'), ('scrolls', 'NNS'), ('awaken', 'VBP'), ('ra', 'NN'), (\"'s\", 'POS'), ('three', 'CD'), ('aspects', 'NNS'), ('find', 'VBP'), ('ra', 'NN'), (\"'s\", 'POS'), ('location', 'NN'), ('(', '('), ('well', 'UH'), ('location', 'NN'), ('missing', 'VBG'), ('magician', 'NN'), ('named', 'VBN'), ('zia', 'NNP'), ('rashid', 'NN'), (')', ')'), (',', ','), ('finally', 'RB'), ('duat', 'JJ'), ('rescue', 'NN'), ('ra', 'NN'), ('drive', 'NN'), ('apophis', 'IN'), ('mortal', 'JJ'), ('world', 'NN'), ('.', '.')]\n",
            "[('third', 'JJ'), ('last', 'JJ'), ('volume', 'NN'), (',', ','), ('serpent', 'NN'), (\"'s\", 'POS'), ('shadow', 'NN'), (',', ','), ('released', 'VBN'), ('may', 'MD'), ('1', 'CD'), (',', ','), ('2012.', 'CD'), ('months', 'NNS'), ('events', 'NNS'), ('previous', 'JJ'), ('book', 'NN'), (',', ','), ('house', 'NN'), ('life', 'NN'), ('battling', 'VBG'), ('repeated', 'VBN'), ('invasions', 'NNS'), ('forces', 'NNS'), ('chaos', 'NN'), (',', ','), ('leading', 'VBG'), ('kanes', 'NNS'), ('trainees', 'NNS'), ('look', 'VBP'), ('desperately', 'JJ'), ('way', 'NN'), ('stop', 'VB'), ('apophis', 'NN'), ('.', '.')]\n",
            "[('finally', 'RB'), ('settle', 'JJ'), ('difficult', 'JJ'), ('method', 'NN'), ('involving', 'VBG'), ('part', 'NN'), ('apophis', 'NN'), (\"'s\", 'POS'), ('soul', 'NN'), ('(', '('), ('serpent', 'NN'), (\"'s\", 'POS'), ('sheut', 'NN'), (')', ')'), ('go', 'VBP'), ('great', 'JJ'), ('lengths', 'JJ'), ('ensure', 'VB'), ('able', 'JJ'), ('use', 'NN'), ('sheut', 'JJ'), ('defeat', 'NN'), ('apophis', 'NN'), ('successfully', 'RB'), ('.', '.')]\n",
            "[('help', 'NN'), ('gods', 'NNS'), (',', ','), ('especially', 'RB'), ('ra', 'JJ'), ('(', '('), ('hosted', 'VBN'), ('zia', 'NNP'), ('rashid', 'NN'), (')', ')'), (',', ','), ('kane', 'JJ'), ('siblings', 'NNS'), ('able', 'JJ'), ('finally', 'RB'), ('banish', 'VB'), ('apophis', 'NN'), ('save', 'NN'), ('friends', 'NNS'), (',', ','), ('although', 'IN'), ('actions', 'NNS'), ('unintended', 'JJ'), ('consequence', 'NN'), ('driving', 'VBG'), ('gods', 'NNS'), ('away', 'RB'), ('mortal', 'JJ'), ('world', 'NN'), ('.', '.')]\n"
          ]
        }
      ]
    }
  ]
}